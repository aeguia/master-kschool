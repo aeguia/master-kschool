{
 "cells": [
  {
   "cell_type": "markdown",
   "metadata": {},
   "source": [
    "# Quick Exercises  "
   ]
  },
  {
   "cell_type": "markdown",
   "metadata": {},
   "source": [
    "<font color='blue'>__1. Implement a function that takes as input three variables, and returns the largest of the three.__  \n",
    "    Do this without using the Python max() function! Make one version without any local variable and\n",
    "another with one local variable.  \n",
    "    _(hint: it might be easier to use edit)_"
   ]
  },
  {
   "cell_type": "code",
   "execution_count": 21,
   "metadata": {},
   "outputs": [],
   "source": [
    "def max_of_three (a,b,c):\n",
    "    \"\"\"\n",
    "    This function returns the largest of three integers\n",
    "    :in - param a: integer\n",
    "    :in - param b: integer\n",
    "    :in - param c: integer\n",
    "    :out - param max_total: maximum integer\n",
    "    \"\"\"\n",
    "    max_total = a\n",
    "    if b > max_total:\n",
    "        max_total = b\n",
    "    if c > max_total:\n",
    "        max_total = c\n",
    "    return max_total"
   ]
  },
  {
   "cell_type": "code",
   "execution_count": 18,
   "metadata": {},
   "outputs": [
    {
     "data": {
      "text/plain": [
       "<function __main__.max_of_three(a, b, c)>"
      ]
     },
     "execution_count": 18,
     "metadata": {},
     "output_type": "execute_result"
    }
   ],
   "source": [
    "max_of_three"
   ]
  },
  {
   "cell_type": "code",
   "execution_count": 22,
   "metadata": {},
   "outputs": [
    {
     "name": "stdout",
     "output_type": "stream",
     "text": [
      "Help on function max_of_three in module __main__:\n",
      "\n",
      "max_of_three(a, b, c)\n",
      "    This function returns the largest of three integers\n",
      "    :in - param a: integer\n",
      "    :in - param b: integer\n",
      "    :in - param c: integer\n",
      "    :out - param max_total: maximum integer\n",
      "\n"
     ]
    }
   ],
   "source": [
    "help(max_of_three)"
   ]
  },
  {
   "cell_type": "code",
   "execution_count": 16,
   "metadata": {},
   "outputs": [
    {
     "data": {
      "text/plain": [
       "78"
      ]
     },
     "execution_count": 16,
     "metadata": {},
     "output_type": "execute_result"
    }
   ],
   "source": [
    "max_of_three(65,78,14)"
   ]
  },
  {
   "cell_type": "code",
   "execution_count": 20,
   "metadata": {},
   "outputs": [],
   "source": [
    "def max_of_list(list1):\n",
    "    \"\"\"\n",
    "    This function returns the higher number inside a list\n",
    "    :in - param list1: list of numbers\n",
    "    :out - param max_total: maximum integer\n",
    "    \"\"\"\n",
    "    max_total=list1[0]\n",
    "    for i in list1:\n",
    "        if i > max_total:\n",
    "            max_total=i\n",
    "    return max_total"
   ]
  },
  {
   "cell_type": "code",
   "execution_count": 10,
   "metadata": {},
   "outputs": [
    {
     "data": {
      "text/plain": [
       "333"
      ]
     },
     "execution_count": 10,
     "metadata": {},
     "output_type": "execute_result"
    }
   ],
   "source": [
    "list1 = (24,-7,99,-12,178,333,2)\n",
    "max_of_list(list1)"
   ]
  },
  {
   "cell_type": "markdown",
   "metadata": {},
   "source": [
    "<font color='blue'>__2. Write a function “centenario” that will take Name, and year of birth as inputs, check if year of birth is int and cast it to int if not, and print name together with the text explaining when the person is to have 100 years.__  \n",
    "    _(hint: use isinstance)_  \n",
    "call to function: centenario(Antonio, 1967)  \n",
    "output: Antonio will reach 100 years in 2067"
   ]
  },
  {
   "cell_type": "code",
   "execution_count": 52,
   "metadata": {},
   "outputs": [],
   "source": [
    "def centenario(name,year):\n",
    "    '''\n",
    "    This function retuns year in which the person will have 100 years\n",
    "    :in - name: string, person name\n",
    "    :in - year: year of birth\n",
    "    '''\n",
    "    year_int = int(year)\n",
    "    if isinstance(year_int,int):\n",
    "        print(f\"{name} will have 100 years old in {year_int+100}\")        "
   ]
  },
  {
   "cell_type": "code",
   "execution_count": 53,
   "metadata": {},
   "outputs": [
    {
     "name": "stdout",
     "output_type": "stream",
     "text": [
      "Antonio will have 100 years old in 2067\n"
     ]
    }
   ],
   "source": [
    "centenario(\"Antonio\", 1967)"
   ]
  },
  {
   "cell_type": "markdown",
   "metadata": {},
   "source": [
    "<font color= 'blue'>__3. Write a function to calculate the number of words, number of lines, and length of a string the same way the wc command does in the command line.__"
   ]
  },
  {
   "cell_type": "code",
   "execution_count": 48,
   "metadata": {},
   "outputs": [],
   "source": [
    "def wc_python(texto):\n",
    "    '''\n",
    "    This function returns number of words, lines and length of a string\n",
    "    :in - cadena: string\n",
    "    '''\n",
    "    num_words = 0\n",
    "    num_lines = 0\n",
    "    num_char = 0\n",
    "    for words in cadena.split(' '):\n",
    "        num_words += 1\n",
    "    for words in cadena.split('\\n'):\n",
    "        num_lines += 1    \n",
    "    num_char=len(cadena)\n",
    "    print(f\"Python wc: {num_words} {num_lines} {num_char}\")"
   ]
  },
  {
   "cell_type": "code",
   "execution_count": 49,
   "metadata": {},
   "outputs": [],
   "source": [
    "cadena = \"Esto es la Linea 1\\nLinea 2\\nLinea 3\\nLinea 4\\nFIN\""
   ]
  },
  {
   "cell_type": "code",
   "execution_count": 50,
   "metadata": {},
   "outputs": [
    {
     "name": "stdout",
     "output_type": "stream",
     "text": [
      "Esto es la Linea 1\n",
      "Linea 2\n",
      "Linea 3\n",
      "Linea 4\n",
      "FIN\n"
     ]
    }
   ],
   "source": [
    "print(cadena)"
   ]
  },
  {
   "cell_type": "code",
   "execution_count": 51,
   "metadata": {},
   "outputs": [
    {
     "name": "stdout",
     "output_type": "stream",
     "text": [
      "Python wc: 8 5 46\n"
     ]
    }
   ],
   "source": [
    "wc_python(cadena)"
   ]
  },
  {
   "cell_type": "markdown",
   "metadata": {},
   "source": [
    "<font color= 'blue'>__4. Write a Python program to remove the nth index character from a string. If the input string is empty print warning.__"
   ]
  },
  {
   "cell_type": "code",
   "execution_count": 66,
   "metadata": {},
   "outputs": [],
   "source": [
    "def remove_index_char(text,num):\n",
    "    '''\n",
    "    This function removes nth index character from a string\n",
    "    :in - text: string\n",
    "    :in - num: integer\n",
    "    '''\n",
    "    index = num\n",
    "    if len(text)>index:\n",
    "        print(text[0:index:]+text[index+1::])\n",
    "    else:\n",
    "        print(\"Warning!\")"
   ]
  },
  {
   "cell_type": "code",
   "execution_count": 72,
   "metadata": {},
   "outputs": [
    {
     "name": "stdout",
     "output_type": "stream",
     "text": [
      "Cadna\n"
     ]
    }
   ],
   "source": [
    "remove_index_char(\"Cadena\",3)"
   ]
  },
  {
   "cell_type": "code",
   "execution_count": 73,
   "metadata": {},
   "outputs": [
    {
     "name": "stdout",
     "output_type": "stream",
     "text": [
      "Warning!\n"
     ]
    }
   ],
   "source": [
    "remove_index_char(\"Cadena\",6)"
   ]
  },
  {
   "cell_type": "code",
   "execution_count": null,
   "metadata": {},
   "outputs": [],
   "source": []
  }
 ],
 "metadata": {
  "kernelspec": {
   "display_name": "Python 3",
   "language": "python",
   "name": "python3"
  },
  "language_info": {
   "codemirror_mode": {
    "name": "ipython",
    "version": 3
   },
   "file_extension": ".py",
   "mimetype": "text/x-python",
   "name": "python",
   "nbconvert_exporter": "python",
   "pygments_lexer": "ipython3",
   "version": "3.7.1"
  }
 },
 "nbformat": 4,
 "nbformat_minor": 2
}
